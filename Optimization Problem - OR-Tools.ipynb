{
 "cells": [
  {
   "cell_type": "markdown",
   "metadata": {
    "toc": true
   },
   "source": [
    "<h1>Table of Contents<span class=\"tocSkip\"></span></h1>\n",
    "<div class=\"toc\"><ul class=\"toc-item\"><li><span><a href=\"#Libraries\" data-toc-modified-id=\"Libraries-1\"><span class=\"toc-item-num\">1&nbsp;&nbsp;</span>Libraries</a></span></li><li><span><a href=\"#Office-Example\" data-toc-modified-id=\"Office-Example-2\"><span class=\"toc-item-num\">2&nbsp;&nbsp;</span>Office Example</a></span><ul class=\"toc-item\"><li><span><a href=\"#Artificial-Example\" data-toc-modified-id=\"Artificial-Example-2.1\"><span class=\"toc-item-num\">2.1&nbsp;&nbsp;</span>Artificial Example</a></span></li><li><span><a href=\"#Problema-de-Optimización\" data-toc-modified-id=\"Problema-de-Optimización-2.2\"><span class=\"toc-item-num\">2.2&nbsp;&nbsp;</span>Problema de Optimización</a></span></li></ul></li></ul></div>"
   ]
  },
  {
   "cell_type": "markdown",
   "metadata": {},
   "source": [
    "## Libraries"
   ]
  },
  {
   "cell_type": "code",
   "execution_count": 1,
   "metadata": {
    "ExecuteTime": {
     "end_time": "2021-02-12T00:02:46.595559Z",
     "start_time": "2021-02-12T00:02:46.309784Z"
    }
   },
   "outputs": [],
   "source": [
    "# Optimization tools\n",
    "from __future__ import print_function\n",
    "from ortools.linear_solver import pywraplp\n",
    "\n",
    "# Data Science\n",
    "import pandas as pd\n",
    "import numpy as np"
   ]
  },
  {
   "cell_type": "markdown",
   "metadata": {},
   "source": [
    "## Office Example"
   ]
  },
  {
   "cell_type": "markdown",
   "metadata": {},
   "source": [
    "### Artificial Example"
   ]
  },
  {
   "cell_type": "code",
   "execution_count": 2,
   "metadata": {
    "ExecuteTime": {
     "end_time": "2021-02-12T00:02:46.610486Z",
     "start_time": "2021-02-12T00:02:46.596488Z"
    }
   },
   "outputs": [],
   "source": [
    "# Personas\n",
    "people = pd.DataFrame()\n",
    "num_people = 1000\n",
    "\n",
    "people_names = []\n",
    "for i in range(num_people):\n",
    "    people_names.append(\"Person \" + str(i+1))\n",
    "    \n",
    "people[\"Name\"] = people_names\n",
    "people[\"Flexibility\"] = np.random.randint(1, 6, num_people)\n",
    "\n",
    "\n",
    "# Offices\n",
    "offices = pd.DataFrame()\n",
    "num_offices = 6\n",
    "\n",
    "nombres_oficinas = []\n",
    "for i in range(num_offices):\n",
    "    nombres_oficinas.append(\"Office \" + str(i+1))\n",
    "\n",
    "offices[\"Name\"] = nombres_oficinas\n",
    "offices[\"Capacity\"] = np.random.randint(100,300,num_offices)\n",
    "offices[\"Fixed Cost\"] = np.random.randint(2000,10000,num_offices)\n",
    "offices[\"Variable Cost\"] = np.random.randint(20,80,num_offices)"
   ]
  },
  {
   "cell_type": "code",
   "execution_count": 3,
   "metadata": {
    "ExecuteTime": {
     "end_time": "2021-02-12T00:02:46.642529Z",
     "start_time": "2021-02-12T00:02:46.612489Z"
    }
   },
   "outputs": [
    {
     "data": {
      "text/html": [
       "<div>\n",
       "<style scoped>\n",
       "    .dataframe tbody tr th:only-of-type {\n",
       "        vertical-align: middle;\n",
       "    }\n",
       "\n",
       "    .dataframe tbody tr th {\n",
       "        vertical-align: top;\n",
       "    }\n",
       "\n",
       "    .dataframe thead th {\n",
       "        text-align: right;\n",
       "    }\n",
       "</style>\n",
       "<table border=\"1\" class=\"dataframe\">\n",
       "  <thead>\n",
       "    <tr style=\"text-align: right;\">\n",
       "      <th></th>\n",
       "      <th>Name</th>\n",
       "      <th>Flexibility</th>\n",
       "    </tr>\n",
       "  </thead>\n",
       "  <tbody>\n",
       "    <tr>\n",
       "      <th>0</th>\n",
       "      <td>Person 1</td>\n",
       "      <td>4</td>\n",
       "    </tr>\n",
       "    <tr>\n",
       "      <th>1</th>\n",
       "      <td>Person 2</td>\n",
       "      <td>5</td>\n",
       "    </tr>\n",
       "    <tr>\n",
       "      <th>2</th>\n",
       "      <td>Person 3</td>\n",
       "      <td>5</td>\n",
       "    </tr>\n",
       "    <tr>\n",
       "      <th>3</th>\n",
       "      <td>Person 4</td>\n",
       "      <td>3</td>\n",
       "    </tr>\n",
       "    <tr>\n",
       "      <th>4</th>\n",
       "      <td>Person 5</td>\n",
       "      <td>5</td>\n",
       "    </tr>\n",
       "    <tr>\n",
       "      <th>...</th>\n",
       "      <td>...</td>\n",
       "      <td>...</td>\n",
       "    </tr>\n",
       "    <tr>\n",
       "      <th>995</th>\n",
       "      <td>Person 996</td>\n",
       "      <td>1</td>\n",
       "    </tr>\n",
       "    <tr>\n",
       "      <th>996</th>\n",
       "      <td>Person 997</td>\n",
       "      <td>2</td>\n",
       "    </tr>\n",
       "    <tr>\n",
       "      <th>997</th>\n",
       "      <td>Person 998</td>\n",
       "      <td>2</td>\n",
       "    </tr>\n",
       "    <tr>\n",
       "      <th>998</th>\n",
       "      <td>Person 999</td>\n",
       "      <td>3</td>\n",
       "    </tr>\n",
       "    <tr>\n",
       "      <th>999</th>\n",
       "      <td>Person 1000</td>\n",
       "      <td>2</td>\n",
       "    </tr>\n",
       "  </tbody>\n",
       "</table>\n",
       "<p>1000 rows × 2 columns</p>\n",
       "</div>"
      ],
      "text/plain": [
       "            Name  Flexibility\n",
       "0       Person 1            4\n",
       "1       Person 2            5\n",
       "2       Person 3            5\n",
       "3       Person 4            3\n",
       "4       Person 5            5\n",
       "..           ...          ...\n",
       "995   Person 996            1\n",
       "996   Person 997            2\n",
       "997   Person 998            2\n",
       "998   Person 999            3\n",
       "999  Person 1000            2\n",
       "\n",
       "[1000 rows x 2 columns]"
      ]
     },
     "execution_count": 3,
     "metadata": {},
     "output_type": "execute_result"
    }
   ],
   "source": [
    "people"
   ]
  },
  {
   "cell_type": "code",
   "execution_count": 4,
   "metadata": {
    "ExecuteTime": {
     "end_time": "2021-02-12T00:02:46.658488Z",
     "start_time": "2021-02-12T00:02:46.643542Z"
    }
   },
   "outputs": [
    {
     "data": {
      "text/html": [
       "<div>\n",
       "<style scoped>\n",
       "    .dataframe tbody tr th:only-of-type {\n",
       "        vertical-align: middle;\n",
       "    }\n",
       "\n",
       "    .dataframe tbody tr th {\n",
       "        vertical-align: top;\n",
       "    }\n",
       "\n",
       "    .dataframe thead th {\n",
       "        text-align: right;\n",
       "    }\n",
       "</style>\n",
       "<table border=\"1\" class=\"dataframe\">\n",
       "  <thead>\n",
       "    <tr style=\"text-align: right;\">\n",
       "      <th></th>\n",
       "      <th>Name</th>\n",
       "      <th>Capacity</th>\n",
       "      <th>Fixed Cost</th>\n",
       "      <th>Variable Cost</th>\n",
       "    </tr>\n",
       "  </thead>\n",
       "  <tbody>\n",
       "    <tr>\n",
       "      <th>0</th>\n",
       "      <td>Office 1</td>\n",
       "      <td>230</td>\n",
       "      <td>9899</td>\n",
       "      <td>70</td>\n",
       "    </tr>\n",
       "    <tr>\n",
       "      <th>1</th>\n",
       "      <td>Office 2</td>\n",
       "      <td>284</td>\n",
       "      <td>3809</td>\n",
       "      <td>46</td>\n",
       "    </tr>\n",
       "    <tr>\n",
       "      <th>2</th>\n",
       "      <td>Office 3</td>\n",
       "      <td>218</td>\n",
       "      <td>7045</td>\n",
       "      <td>38</td>\n",
       "    </tr>\n",
       "    <tr>\n",
       "      <th>3</th>\n",
       "      <td>Office 4</td>\n",
       "      <td>153</td>\n",
       "      <td>8528</td>\n",
       "      <td>56</td>\n",
       "    </tr>\n",
       "    <tr>\n",
       "      <th>4</th>\n",
       "      <td>Office 5</td>\n",
       "      <td>206</td>\n",
       "      <td>3356</td>\n",
       "      <td>53</td>\n",
       "    </tr>\n",
       "    <tr>\n",
       "      <th>5</th>\n",
       "      <td>Office 6</td>\n",
       "      <td>178</td>\n",
       "      <td>5966</td>\n",
       "      <td>62</td>\n",
       "    </tr>\n",
       "  </tbody>\n",
       "</table>\n",
       "</div>"
      ],
      "text/plain": [
       "       Name  Capacity  Fixed Cost  Variable Cost\n",
       "0  Office 1       230        9899             70\n",
       "1  Office 2       284        3809             46\n",
       "2  Office 3       218        7045             38\n",
       "3  Office 4       153        8528             56\n",
       "4  Office 5       206        3356             53\n",
       "5  Office 6       178        5966             62"
      ]
     },
     "execution_count": 4,
     "metadata": {},
     "output_type": "execute_result"
    }
   ],
   "source": [
    "offices"
   ]
  },
  {
   "cell_type": "markdown",
   "metadata": {},
   "source": [
    "### Problema de Optimización"
   ]
  },
  {
   "cell_type": "code",
   "execution_count": 5,
   "metadata": {
    "ExecuteTime": {
     "end_time": "2021-02-12T00:02:46.927556Z",
     "start_time": "2021-02-12T00:02:46.659488Z"
    }
   },
   "outputs": [],
   "source": [
    "# Integer programming solver\n",
    "solver = pywraplp.Solver.CreateSolver('CBC')\n",
    "\n",
    "# Creamos un arreglo 3-D\n",
    "dim_1 = people.shape[0] # Number of people\n",
    "dim_2 = 5 # Number of days\n",
    "dim_3 = offices.shape[0] # Number of offices\n",
    "\n",
    "# Cont\n",
    "contador = 1\n",
    "\n",
    "# People variables\n",
    "variables_personas = [[[0 for k in range(dim_3)] for j in range(dim_2)] for i in range(dim_1)]\n",
    "\n",
    "for i in range(dim_1):\n",
    "    for j in range(dim_2):\n",
    "        for k in range(dim_3):\n",
    "            variables_personas[i][j][k] = solver.IntVar(0.0, 1.0, 'x[%i]' % contador)\n",
    "            contador += 1\n",
    "            \n",
    "# Variables de las oficinas\n",
    "variables_oficina = [0 for i in range(dim_3)]\n",
    "\n",
    "for i in range(dim_3):\n",
    "    variables_oficina[i] = solver.IntVar(0.0, 1.0, 'x[%i]' % contador)\n",
    "    contador += 1\n",
    "            \n",
    "            \n",
    "# Restriccion 1 (Las personas deben ir al menos una cantidad de días) \n",
    "constraint_1 = [_ for i in range(dim_1)]\n",
    "for persona in range(dim_1): # Para toda persona\n",
    "    dias_trabajados = int(people[\"Flexibility\"][persona])\n",
    "    constraint_1[persona] = solver.Constraint(dias_trabajados, dias_trabajados)\n",
    "    for dia in range(dim_2):\n",
    "        for off in range(dim_3):\n",
    "            constraint_1[persona].SetCoefficient(variables_personas[persona][dia][off], 1)\n",
    "            \n",
    "# Restriccion 2 (No exceder la capacidad) \n",
    "constraint_2 = [[_ for k in range(dim_3)] for j in range(dim_2)] \n",
    "for dia in range(dim_2):\n",
    "    for off in range(dim_3):\n",
    "        capacidad_oficina = int(offices[\"Capacity\"][off])\n",
    "        constraint_2[dia][off] = solver.Constraint(-solver.infinity(), 0)\n",
    "        constraint_2[dia][off].SetCoefficient(variables_oficina[off], -capacidad_oficina)\n",
    "        for persona in range(dim_1):\n",
    "            constraint_2[dia][off].SetCoefficient(variables_personas[persona][dia][off], 1)\n",
    "        \n",
    "# Restriccion 3 (Una persona no puede estar en dos lugares a la vez) \n",
    "constraint_3 = [[_ for k in range(dim_2)] for j in range(dim_1)] \n",
    "for persona in range(dim_1): # Para toda persona\n",
    "    for dia in range(dim_2): # Para todo día\n",
    "        constraint_3[persona][dia] = solver.Constraint(-solver.infinity(), 1)\n",
    "        for off in range(dim_3):\n",
    "            constraint_3[persona][dia].SetCoefficient(variables_personas[persona][dia][off], 1)\n",
    "              \n",
    "# Función Objetivo\n",
    "objective = solver.Objective()\n",
    "for off in range(dim_3):\n",
    "    objective.SetCoefficient(variables_oficina[off], int(offices[\"Fixed Cost\"][off]))\n",
    "    \n",
    "    \n",
    "for persona in range(dim_1):\n",
    "    for dia in range(dim_2):\n",
    "        for off in range(dim_3):\n",
    "            objective.SetCoefficient(variables_personas[persona][dia][off], int(offices[\"Fixed Cost\"][off]))\n",
    "            \n",
    "objective.SetMinimization()"
   ]
  },
  {
   "cell_type": "code",
   "execution_count": 6,
   "metadata": {
    "ExecuteTime": {
     "end_time": "2021-02-12T00:02:55.787161Z",
     "start_time": "2021-02-12T00:02:46.928488Z"
    }
   },
   "outputs": [
    {
     "name": "stdout",
     "output_type": "stream",
     "text": [
      "Maximum objective function value = 12482055\n",
      "x[30001] = 0\n",
      "x[30002] = 1\n",
      "x[30003] = 0\n",
      "x[30004] = 0\n",
      "x[30005] = 1\n",
      "x[30006] = 1\n"
     ]
    }
   ],
   "source": [
    "# Solver del problema\n",
    "solver.Solve()\n",
    "\n",
    "# Valor de la función objetivo\n",
    "print('Maximum objective function value = %d' % solver.Objective().Value())\n",
    "\n",
    "# Que oficinas se necesitan y cuales no\n",
    "for var in variables_oficina:\n",
    "    print('%s = %d' % (var.name(), var.solution_value()))"
   ]
  },
  {
   "cell_type": "code",
   "execution_count": 7,
   "metadata": {
    "ExecuteTime": {
     "end_time": "2021-02-12T00:02:55.850578Z",
     "start_time": "2021-02-12T00:02:55.788154Z"
    }
   },
   "outputs": [
    {
     "data": {
      "text/html": [
       "<div>\n",
       "<style scoped>\n",
       "    .dataframe tbody tr th:only-of-type {\n",
       "        vertical-align: middle;\n",
       "    }\n",
       "\n",
       "    .dataframe tbody tr th {\n",
       "        vertical-align: top;\n",
       "    }\n",
       "\n",
       "    .dataframe thead th {\n",
       "        text-align: right;\n",
       "    }\n",
       "</style>\n",
       "<table border=\"1\" class=\"dataframe\">\n",
       "  <thead>\n",
       "    <tr style=\"text-align: right;\">\n",
       "      <th></th>\n",
       "      <th>Name</th>\n",
       "      <th>Day</th>\n",
       "      <th>Place</th>\n",
       "    </tr>\n",
       "  </thead>\n",
       "  <tbody>\n",
       "    <tr>\n",
       "      <th>0</th>\n",
       "      <td>Person 1</td>\n",
       "      <td>0</td>\n",
       "      <td>Office 5</td>\n",
       "    </tr>\n",
       "    <tr>\n",
       "      <th>35</th>\n",
       "      <td>Person 10</td>\n",
       "      <td>0</td>\n",
       "      <td>Office 6</td>\n",
       "    </tr>\n",
       "    <tr>\n",
       "      <th>3052</th>\n",
       "      <td>Person 1000</td>\n",
       "      <td>0</td>\n",
       "      <td>Office 2</td>\n",
       "    </tr>\n",
       "    <tr>\n",
       "      <th>300</th>\n",
       "      <td>Person 101</td>\n",
       "      <td>0</td>\n",
       "      <td>Office 2</td>\n",
       "    </tr>\n",
       "    <tr>\n",
       "      <th>305</th>\n",
       "      <td>Person 102</td>\n",
       "      <td>0</td>\n",
       "      <td>Office 2</td>\n",
       "    </tr>\n",
       "  </tbody>\n",
       "</table>\n",
       "</div>"
      ],
      "text/plain": [
       "             Name  Day     Place\n",
       "0        Person 1    0  Office 5\n",
       "35      Person 10    0  Office 6\n",
       "3052  Person 1000    0  Office 2\n",
       "300    Person 101    0  Office 2\n",
       "305    Person 102    0  Office 2"
      ]
     },
     "execution_count": 7,
     "metadata": {},
     "output_type": "execute_result"
    }
   ],
   "source": [
    "# Output\n",
    "\n",
    "lista_personas = []\n",
    "lista_dias = []\n",
    "lista_oficina = [] \n",
    "\n",
    "for i in range(dim_1):\n",
    "    for j in range(dim_2):\n",
    "        for k in range(dim_3):\n",
    "            if variables_personas[i][j][k].solution_value() != 0:\n",
    "                lista_personas.append(people[\"Name\"][i])\n",
    "                lista_dias.append(j)\n",
    "                lista_oficina.append(offices[\"Name\"][k])\n",
    "                \n",
    "\n",
    "output_optimizacion = pd.DataFrame()\n",
    "\n",
    "output_optimizacion[\"Name\"] = lista_personas\n",
    "output_optimizacion[\"Day\"] = lista_dias\n",
    "output_optimizacion[\"Place\"] = lista_oficina\n",
    "\n",
    "output_optimizacion= output_optimizacion.sort_values(by=[\"Day\",\"Name\"])\n",
    "\n",
    "output_optimizacion.head()"
   ]
  },
  {
   "cell_type": "code",
   "execution_count": 8,
   "metadata": {
    "ExecuteTime": {
     "end_time": "2021-02-12T00:02:55.866540Z",
     "start_time": "2021-02-12T00:02:55.851511Z"
    }
   },
   "outputs": [
    {
     "data": {
      "text/html": [
       "<div>\n",
       "<style scoped>\n",
       "    .dataframe tbody tr th:only-of-type {\n",
       "        vertical-align: middle;\n",
       "    }\n",
       "\n",
       "    .dataframe tbody tr th {\n",
       "        vertical-align: top;\n",
       "    }\n",
       "\n",
       "    .dataframe thead th {\n",
       "        text-align: right;\n",
       "    }\n",
       "</style>\n",
       "<table border=\"1\" class=\"dataframe\">\n",
       "  <thead>\n",
       "    <tr style=\"text-align: right;\">\n",
       "      <th></th>\n",
       "      <th>Name</th>\n",
       "      <th>Flexibility</th>\n",
       "    </tr>\n",
       "  </thead>\n",
       "  <tbody>\n",
       "    <tr>\n",
       "      <th>30</th>\n",
       "      <td>Person 31</td>\n",
       "      <td>1</td>\n",
       "    </tr>\n",
       "  </tbody>\n",
       "</table>\n",
       "</div>"
      ],
      "text/plain": [
       "         Name  Flexibility\n",
       "30  Person 31            1"
      ]
     },
     "execution_count": 8,
     "metadata": {},
     "output_type": "execute_result"
    }
   ],
   "source": [
    "people[people[\"Name\"]==\"Person 31\"]"
   ]
  },
  {
   "cell_type": "code",
   "execution_count": 9,
   "metadata": {
    "ExecuteTime": {
     "end_time": "2021-02-12T00:02:55.882401Z",
     "start_time": "2021-02-12T00:02:55.867510Z"
    }
   },
   "outputs": [
    {
     "data": {
      "text/html": [
       "<div>\n",
       "<style scoped>\n",
       "    .dataframe tbody tr th:only-of-type {\n",
       "        vertical-align: middle;\n",
       "    }\n",
       "\n",
       "    .dataframe tbody tr th {\n",
       "        vertical-align: top;\n",
       "    }\n",
       "\n",
       "    .dataframe thead th {\n",
       "        text-align: right;\n",
       "    }\n",
       "</style>\n",
       "<table border=\"1\" class=\"dataframe\">\n",
       "  <thead>\n",
       "    <tr style=\"text-align: right;\">\n",
       "      <th></th>\n",
       "      <th>Name</th>\n",
       "      <th>Day</th>\n",
       "      <th>Place</th>\n",
       "    </tr>\n",
       "  </thead>\n",
       "  <tbody>\n",
       "    <tr>\n",
       "      <th>91</th>\n",
       "      <td>Person 31</td>\n",
       "      <td>1</td>\n",
       "      <td>Office 6</td>\n",
       "    </tr>\n",
       "  </tbody>\n",
       "</table>\n",
       "</div>"
      ],
      "text/plain": [
       "         Name  Day     Place\n",
       "91  Person 31    1  Office 6"
      ]
     },
     "execution_count": 9,
     "metadata": {},
     "output_type": "execute_result"
    }
   ],
   "source": [
    "output_optimizacion[output_optimizacion[\"Name\"]==\"Person 31\"]"
   ]
  },
  {
   "cell_type": "code",
   "execution_count": 10,
   "metadata": {
    "ExecuteTime": {
     "end_time": "2021-02-12T00:02:55.913400Z",
     "start_time": "2021-02-12T00:02:55.883372Z"
    }
   },
   "outputs": [
    {
     "data": {
      "text/html": [
       "<div>\n",
       "<style scoped>\n",
       "    .dataframe tbody tr th:only-of-type {\n",
       "        vertical-align: middle;\n",
       "    }\n",
       "\n",
       "    .dataframe tbody tr th {\n",
       "        vertical-align: top;\n",
       "    }\n",
       "\n",
       "    .dataframe thead th {\n",
       "        text-align: right;\n",
       "    }\n",
       "</style>\n",
       "<table border=\"1\" class=\"dataframe\">\n",
       "  <thead>\n",
       "    <tr style=\"text-align: right;\">\n",
       "      <th></th>\n",
       "      <th>Name</th>\n",
       "      <th>Monday</th>\n",
       "      <th>Tuesday</th>\n",
       "      <th>Wednesday</th>\n",
       "      <th>Thursday</th>\n",
       "      <th>Friday</th>\n",
       "      <th>Capacity</th>\n",
       "      <th>Fixed Cost</th>\n",
       "      <th>Variable Cost</th>\n",
       "    </tr>\n",
       "  </thead>\n",
       "  <tbody>\n",
       "    <tr>\n",
       "      <th>0</th>\n",
       "      <td>Office 2</td>\n",
       "      <td>284</td>\n",
       "      <td>284</td>\n",
       "      <td>284</td>\n",
       "      <td>284</td>\n",
       "      <td>284</td>\n",
       "      <td>284</td>\n",
       "      <td>3809</td>\n",
       "      <td>46</td>\n",
       "    </tr>\n",
       "    <tr>\n",
       "      <th>1</th>\n",
       "      <td>Office 5</td>\n",
       "      <td>206</td>\n",
       "      <td>206</td>\n",
       "      <td>206</td>\n",
       "      <td>206</td>\n",
       "      <td>206</td>\n",
       "      <td>206</td>\n",
       "      <td>3356</td>\n",
       "      <td>53</td>\n",
       "    </tr>\n",
       "    <tr>\n",
       "      <th>2</th>\n",
       "      <td>Office 6</td>\n",
       "      <td>121</td>\n",
       "      <td>121</td>\n",
       "      <td>120</td>\n",
       "      <td>121</td>\n",
       "      <td>121</td>\n",
       "      <td>178</td>\n",
       "      <td>5966</td>\n",
       "      <td>62</td>\n",
       "    </tr>\n",
       "  </tbody>\n",
       "</table>\n",
       "</div>"
      ],
      "text/plain": [
       "       Name  Monday  Tuesday  Wednesday  Thursday  Friday  Capacity  \\\n",
       "0  Office 2     284      284        284       284     284       284   \n",
       "1  Office 5     206      206        206       206     206       206   \n",
       "2  Office 6     121      121        120       121     121       178   \n",
       "\n",
       "   Fixed Cost  Variable Cost  \n",
       "0        3809             46  \n",
       "1        3356             53  \n",
       "2        5966             62  "
      ]
     },
     "execution_count": 10,
     "metadata": {},
     "output_type": "execute_result"
    }
   ],
   "source": [
    "office_ocupancy = []\n",
    "for off in output_optimizacion[\"Place\"].unique():\n",
    "    day_occupancy = []\n",
    "    for day in output_optimizacion[\"Day\"].unique():\n",
    "        data_temp = output_optimizacion[(output_optimizacion[\"Day\"]==day) & (output_optimizacion[\"Place\"]==off)]\n",
    "        day_occupancy.append(data_temp.shape[0])\n",
    "    office_ocupancy.append(day_occupancy)\n",
    "\n",
    "day_names = {0:\"Monday\",1:\"Tuesday\",2:\"Wednesday\",3:\"Thursday\",4:\"Friday\"}\n",
    "occupancy = pd.DataFrame(data=office_ocupancy,columns=[day_names[a] for a in output_optimizacion[\"Day\"].unique()],index=output_optimizacion[\"Place\"].unique())\n",
    "occupancy = occupancy.reset_index().rename(columns={\"index\":\"Name\"}).sort_values(by=\"Name\").reset_index(drop=True)\n",
    "resumen_oficinas = occupancy.merge(offices)\n",
    "resumen_oficinas"
   ]
  }
 ],
 "metadata": {
  "kernelspec": {
   "display_name": "Python 3",
   "language": "python",
   "name": "python3"
  },
  "language_info": {
   "codemirror_mode": {
    "name": "ipython",
    "version": 3
   },
   "file_extension": ".py",
   "mimetype": "text/x-python",
   "name": "python",
   "nbconvert_exporter": "python",
   "pygments_lexer": "ipython3",
   "version": "3.8.3"
  },
  "toc": {
   "base_numbering": 1,
   "nav_menu": {},
   "number_sections": true,
   "sideBar": true,
   "skip_h1_title": true,
   "title_cell": "Table of Contents",
   "title_sidebar": "Contents",
   "toc_cell": true,
   "toc_position": {},
   "toc_section_display": true,
   "toc_window_display": false
  }
 },
 "nbformat": 4,
 "nbformat_minor": 2
}
